{
 "cells": [
  {
   "cell_type": "code",
   "execution_count": 1,
   "id": "09674649",
   "metadata": {},
   "outputs": [],
   "source": [
    "import json\n",
    "\n",
    "from pathlib import Path\n",
    "from functools import partial\n",
    "from tempfile import TemporaryDirectory\n",
    "\n",
    "import datazimmer as dz\n",
    "import geopandas as gpd\n",
    "import pandas as pd\n",
    "\n",
    "from parquetranger import TableRepo\n",
    "from tqdm.notebook import tqdm\n",
    "\n",
    "\n",
    "from metazimmer.gpsping.ubermedia.raw_proc import ping_table, ExtendedPing\n",
    "from metazimmer.gpsping.minor_report import date_agg_table\n",
    "from src.semantic_info import semantic_info_table, SemanticTemporalInfo\n",
    "from src.util import filtered_count\n",
    "from src.parks import write_part"
   ]
  },
  {
   "cell_type": "code",
   "execution_count": 2,
   "id": "58c36a00",
   "metadata": {},
   "outputs": [],
   "source": [
    "park_path = dz.get_raw_data_path(\"UA2018_CAT14100_HUN_WGS84.zip\")"
   ]
  },
  {
   "cell_type": "code",
   "execution_count": 3,
   "id": "53165d29",
   "metadata": {},
   "outputs": [],
   "source": [
    "gdf = gpd.read_file(park_path)"
   ]
  },
  {
   "cell_type": "code",
   "execution_count": 4,
   "id": "1d215fb7",
   "metadata": {},
   "outputs": [],
   "source": [
    "home_df = semantic_info_table.get_full_df(env=\"complete\")"
   ]
  },
  {
   "cell_type": "code",
   "execution_count": 5,
   "id": "383869a3",
   "metadata": {},
   "outputs": [],
   "source": [
    "tmpdir = TemporaryDirectory()"
   ]
  },
  {
   "cell_type": "code",
   "execution_count": 7,
   "id": "9fb348b8",
   "metadata": {},
   "outputs": [],
   "source": [
    "out_trepo = TableRepo(f\"{tmpdir.name}/park-pings-homed\", group_cols=[ExtendedPing.device_group])"
   ]
  },
  {
   "cell_type": "code",
   "execution_count": null,
   "id": "21b3ace9",
   "metadata": {},
   "outputs": [],
   "source": [
    "list(\n",
    "    ping_table.map_partitions(\n",
    "        env=\"complete\",\n",
    "        fun=partial(write_part, gdf=gdf, home_df=home_df, out_trepo=out_trepo),\n",
    "        pbar=True,\n",
    "        workers=4\n",
    "    )\n",
    ")"
   ]
  },
  {
   "cell_type": "code",
   "execution_count": 9,
   "id": "2c438893",
   "metadata": {},
   "outputs": [
    {
     "data": {
      "application/vnd.jupyter.widget-view+json": {
       "model_id": "1988d5a78dee468ab7fc9d6e8ed0b874",
       "version_major": 2,
       "version_minor": 0
      },
      "text/plain": [
       "0it [00:00, ?it/s]"
      ]
     },
     "metadata": {},
     "output_type": "display_data"
    }
   ],
   "source": [
    "filled_clean_dfs = []\n",
    "for df in tqdm(out_trepo.dfs):\n",
    "    filled_clean_dfs.append(\n",
    "        df.drop(\n",
    "            [\n",
    "                ExtendedPing.year_month,\n",
    "                ExtendedPing.device_group,\n",
    "                \"time_bin\",\n",
    "                \"info_name\",\n",
    "            ],\n",
    "            axis=1,\n",
    "        )\n",
    "        .groupby(ExtendedPing.device_id, group_keys=False)\n",
    "        .apply(pd.DataFrame.fillna, method=\"ffill\")\n",
    "    )"
   ]
  },
  {
   "cell_type": "code",
   "execution_count": 10,
   "id": "a8198b71",
   "metadata": {},
   "outputs": [],
   "source": [
    "conc_df = pd.concat(filled_clean_dfs)"
   ]
  },
  {
   "cell_type": "code",
   "execution_count": 45,
   "id": "bbb614af",
   "metadata": {},
   "outputs": [
    {
     "data": {
      "text/plain": [
       "28.197543"
      ]
     },
     "execution_count": 45,
     "metadata": {},
     "output_type": "execute_result"
    }
   ],
   "source": [
    "conc_df.shape[0] / 10 ** 6"
   ]
  },
  {
   "cell_type": "code",
   "execution_count": 44,
   "id": "00885ac4",
   "metadata": {},
   "outputs": [
    {
     "data": {
      "application/vnd.jupyter.widget-view+json": {
       "model_id": "8cca8fcf91064314b182714c40a9c12d",
       "version_major": 2,
       "version_minor": 0
      },
      "text/plain": [
       "  0%|          | 0/10 [00:00<?, ?it/s]"
      ]
     },
     "metadata": {},
     "output_type": "display_data"
    }
   ],
   "source": [
    "chunksize = 3_000_000\n",
    "for i in tqdm(range(0, conc_df.shape[0], chunksize)):\n",
    "    conc_df.iloc[i : i + chunksize, :].to_csv(\n",
    "        dz.get_raw_data_path(f\"parks-complete-pings-w-homes-{i+1:02}.csv.gz\"),\n",
    "        index=None,\n",
    "        compression=\"gzip\",\n",
    "    )"
   ]
  },
  {
   "cell_type": "code",
   "execution_count": 46,
   "id": "26b39c02",
   "metadata": {},
   "outputs": [],
   "source": [
    "by_device_miss = (\n",
    "    conc_df.groupby(ExtendedPing.device_id)[\"last_home__loc__lat\"]\n",
    "    .agg(lambda s: s.isna().mean())\n",
    "    .value_counts()\n",
    ")"
   ]
  },
  {
   "cell_type": "code",
   "execution_count": 47,
   "id": "a34dd9fe",
   "metadata": {},
   "outputs": [
    {
     "data": {
      "text/html": [
       "<div>\n",
       "<style scoped>\n",
       "    .dataframe tbody tr th:only-of-type {\n",
       "        vertical-align: middle;\n",
       "    }\n",
       "\n",
       "    .dataframe tbody tr th {\n",
       "        vertical-align: top;\n",
       "    }\n",
       "\n",
       "    .dataframe thead th {\n",
       "        text-align: right;\n",
       "    }\n",
       "</style>\n",
       "<table border=\"1\" class=\"dataframe\">\n",
       "  <thead>\n",
       "    <tr style=\"text-align: right;\">\n",
       "      <th></th>\n",
       "      <th>last_home__loc__lat</th>\n",
       "    </tr>\n",
       "    <tr>\n",
       "      <th>ibin</th>\n",
       "      <th></th>\n",
       "    </tr>\n",
       "  </thead>\n",
       "  <tbody>\n",
       "    <tr>\n",
       "      <th>(-0.01, 0.2]</th>\n",
       "      <td>0.164107</td>\n",
       "    </tr>\n",
       "    <tr>\n",
       "      <th>(0.2, 0.4]</th>\n",
       "      <td>0.005596</td>\n",
       "    </tr>\n",
       "    <tr>\n",
       "      <th>(0.4, 0.6]</th>\n",
       "      <td>0.003984</td>\n",
       "    </tr>\n",
       "    <tr>\n",
       "      <th>(0.6, 0.8]</th>\n",
       "      <td>0.002824</td>\n",
       "    </tr>\n",
       "    <tr>\n",
       "      <th>(0.8, 1.0]</th>\n",
       "      <td>0.823489</td>\n",
       "    </tr>\n",
       "  </tbody>\n",
       "</table>\n",
       "</div>"
      ],
      "text/plain": [
       "              last_home__loc__lat\n",
       "ibin                             \n",
       "(-0.01, 0.2]             0.164107\n",
       "(0.2, 0.4]               0.005596\n",
       "(0.4, 0.6]               0.003984\n",
       "(0.6, 0.8]               0.002824\n",
       "(0.8, 1.0]               0.823489"
      ]
     },
     "execution_count": 47,
     "metadata": {},
     "output_type": "execute_result"
    }
   ],
   "source": [
    "by_device_miss.to_frame().assign(\n",
    "    ibin=lambda df: pd.cut(df.index, [-0.01, 0.2, 0.4, 0.6, 0.8, 1])\n",
    ").groupby(\"ibin\").sum() / by_device_miss.sum()"
   ]
  },
  {
   "cell_type": "code",
   "execution_count": 48,
   "id": "869331b8",
   "metadata": {},
   "outputs": [],
   "source": [
    "devices = set(conc_df[ExtendedPing.device_id].unique())"
   ]
  },
  {
   "cell_type": "code",
   "execution_count": 49,
   "id": "3de43a84",
   "metadata": {},
   "outputs": [],
   "source": [
    "dpath = Path(dz.get_raw_data_path(\"parks-devices-appearing.json\"))"
   ]
  },
  {
   "cell_type": "code",
   "execution_count": 50,
   "id": "5ed6a4e3",
   "metadata": {},
   "outputs": [
    {
     "data": {
      "text/plain": [
       "29310864"
      ]
     },
     "execution_count": 50,
     "metadata": {},
     "output_type": "execute_result"
    }
   ],
   "source": [
    "dpath.write_text(json.dumps(list(devices)))"
   ]
  },
  {
   "cell_type": "code",
   "execution_count": 16,
   "id": "cc16734d",
   "metadata": {},
   "outputs": [],
   "source": [
    "# devices = set(json.loads(dpath.read_text()))"
   ]
  },
  {
   "cell_type": "code",
   "execution_count": 17,
   "id": "2e7b9127",
   "metadata": {},
   "outputs": [
    {
     "name": "stderr",
     "output_type": "stream",
     "text": [
      "6144it [09:11, 11.14it/s]\n"
     ]
    }
   ],
   "source": [
    "full_park_ping_counts = pd.concat(\n",
    "    ping_table.map_partitions(\n",
    "        env=\"complete\", fun=partial(filtered_count, fset=devices), pbar=True, workers=4\n",
    "    )\n",
    ")"
   ]
  },
  {
   "cell_type": "code",
   "execution_count": 18,
   "id": "75331e7e",
   "metadata": {},
   "outputs": [],
   "source": [
    "comp_out = (\n",
    "    full_park_ping_counts.groupby(level=0)\n",
    "    .sum()\n",
    "    .rename(columns=lambda s: f\"filtered_{s}\")\n",
    "    .join(date_agg_table.get_full_df(\"complete\").rename(columns=lambda s: f\"total_{s}\"))\n",
    ")"
   ]
  },
  {
   "cell_type": "code",
   "execution_count": 19,
   "id": "9d134efb",
   "metadata": {},
   "outputs": [],
   "source": [
    "comp_out.to_csv(dz.get_raw_data_path(\"parks-complete-count.csv\"))"
   ]
  }
 ],
 "metadata": {
  "kernelspec": {
   "display_name": "Python 3 (ipykernel)",
   "language": "python",
   "name": "python3"
  },
  "language_info": {
   "codemirror_mode": {
    "name": "ipython",
    "version": 3
   },
   "file_extension": ".py",
   "mimetype": "text/x-python",
   "name": "python",
   "nbconvert_exporter": "python",
   "pygments_lexer": "ipython3",
   "version": "3.10.6"
  }
 },
 "nbformat": 4,
 "nbformat_minor": 5
}
