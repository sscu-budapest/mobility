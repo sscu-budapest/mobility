{
 "cells": [
  {
   "cell_type": "markdown",
   "id": "turkish-table",
   "metadata": {},
   "source": [
    "#### some utility functions of metaprogramming, to help static analysis"
   ]
  },
  {
   "cell_type": "code",
   "execution_count": 2,
   "id": "extended-intermediate",
   "metadata": {},
   "outputs": [],
   "source": [
    "import calendar as cal\n",
    "from itertools import product\n",
    "\n",
    "loc = []\n",
    "for i, (cbool, cname) in product(range(7), [(True, \"covid\"), (False, \"non_covid\")]):\n",
    "    loc.append(\n",
    "        f\"{cname}_{cal.day_name[i].lower()} = _get_cov_day(is_covid={cbool}, day={i})\"\n",
    "    )"
   ]
  },
  {
   "cell_type": "code",
   "execution_count": 3,
   "id": "coupled-westminster",
   "metadata": {},
   "outputs": [
    {
     "name": "stdout",
     "output_type": "stream",
     "text": [
      "covid_monday = _get_cov_day(is_covid=True, day=0)\n",
      "non_covid_monday = _get_cov_day(is_covid=False, day=0)\n",
      "covid_tuesday = _get_cov_day(is_covid=True, day=1)\n",
      "non_covid_tuesday = _get_cov_day(is_covid=False, day=1)\n",
      "covid_wednesday = _get_cov_day(is_covid=True, day=2)\n",
      "non_covid_wednesday = _get_cov_day(is_covid=False, day=2)\n",
      "covid_thursday = _get_cov_day(is_covid=True, day=3)\n",
      "non_covid_thursday = _get_cov_day(is_covid=False, day=3)\n",
      "covid_friday = _get_cov_day(is_covid=True, day=4)\n",
      "non_covid_friday = _get_cov_day(is_covid=False, day=4)\n",
      "covid_saturday = _get_cov_day(is_covid=True, day=5)\n",
      "non_covid_saturday = _get_cov_day(is_covid=False, day=5)\n",
      "covid_sunday = _get_cov_day(is_covid=True, day=6)\n",
      "non_covid_sunday = _get_cov_day(is_covid=False, day=6)\n"
     ]
    }
   ],
   "source": [
    "print(\"\\n\".join(loc))"
   ]
  }
 ],
 "metadata": {
  "kernelspec": {
   "display_name": "Python 3",
   "language": "python",
   "name": "python3"
  },
  "language_info": {
   "codemirror_mode": {
    "name": "ipython",
    "version": 3
   },
   "file_extension": ".py",
   "mimetype": "text/x-python",
   "name": "python",
   "nbconvert_exporter": "python",
   "pygments_lexer": "ipython3",
   "version": "3.8.5"
  }
 },
 "nbformat": 4,
 "nbformat_minor": 5
}
